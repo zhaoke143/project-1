{
 "cells": [
  {
   "cell_type": "code",
   "execution_count": 1,
   "metadata": {},
   "outputs": [],
   "source": [
    "import pandas as pd\n",
    "import gmaps \n",
    "from config import gkey"
   ]
  },
  {
   "cell_type": "code",
   "execution_count": 2,
   "metadata": {},
   "outputs": [],
   "source": [
    "#API_KEY = 'your api key'\n",
    "gmaps.configure(api_key=gkey) # Your Google API key"
   ]
  },
  {
   "cell_type": "code",
   "execution_count": 3,
   "metadata": {},
   "outputs": [
    {
     "data": {
      "text/html": [
       "<div>\n",
       "<style scoped>\n",
       "    .dataframe tbody tr th:only-of-type {\n",
       "        vertical-align: middle;\n",
       "    }\n",
       "\n",
       "    .dataframe tbody tr th {\n",
       "        vertical-align: top;\n",
       "    }\n",
       "\n",
       "    .dataframe thead th {\n",
       "        text-align: right;\n",
       "    }\n",
       "</style>\n",
       "<table border=\"1\" class=\"dataframe\">\n",
       "  <thead>\n",
       "    <tr style=\"text-align: right;\">\n",
       "      <th></th>\n",
       "      <th>Unnamed: 0</th>\n",
       "      <th>Category</th>\n",
       "      <th>Descript</th>\n",
       "      <th>DayOfWeek</th>\n",
       "      <th>Date</th>\n",
       "      <th>Time</th>\n",
       "      <th>PdDistrict</th>\n",
       "      <th>X</th>\n",
       "      <th>Y</th>\n",
       "      <th>PdId</th>\n",
       "      <th>Year</th>\n",
       "    </tr>\n",
       "  </thead>\n",
       "  <tbody>\n",
       "    <tr>\n",
       "      <th>0</th>\n",
       "      <td>9</td>\n",
       "      <td>LARCENY/THEFT</td>\n",
       "      <td>PETTY THEFT SHOPLIFTING</td>\n",
       "      <td>Saturday</td>\n",
       "      <td>2015-01-31</td>\n",
       "      <td>17:00</td>\n",
       "      <td>CENTRAL</td>\n",
       "      <td>-122.417295</td>\n",
       "      <td>37.786258</td>\n",
       "      <td>15009826006362</td>\n",
       "      <td>2015</td>\n",
       "    </tr>\n",
       "    <tr>\n",
       "      <th>1</th>\n",
       "      <td>10</td>\n",
       "      <td>LARCENY/THEFT</td>\n",
       "      <td>PETTY THEFT SHOPLIFTING</td>\n",
       "      <td>Sunday</td>\n",
       "      <td>2015-02-01</td>\n",
       "      <td>14:00</td>\n",
       "      <td>MISSION</td>\n",
       "      <td>-122.413354</td>\n",
       "      <td>37.769075</td>\n",
       "      <td>15009834506362</td>\n",
       "      <td>2015</td>\n",
       "    </tr>\n",
       "    <tr>\n",
       "      <th>2</th>\n",
       "      <td>18</td>\n",
       "      <td>LARCENY/THEFT</td>\n",
       "      <td>PETTY THEFT FROM LOCKED AUTO</td>\n",
       "      <td>Sunday</td>\n",
       "      <td>2015-02-01</td>\n",
       "      <td>14:30</td>\n",
       "      <td>PARK</td>\n",
       "      <td>-122.458639</td>\n",
       "      <td>37.767200</td>\n",
       "      <td>15009839506243</td>\n",
       "      <td>2015</td>\n",
       "    </tr>\n",
       "    <tr>\n",
       "      <th>3</th>\n",
       "      <td>35</td>\n",
       "      <td>LARCENY/THEFT</td>\n",
       "      <td>GRAND THEFT FROM LOCKED AUTO</td>\n",
       "      <td>Friday</td>\n",
       "      <td>2015-01-30</td>\n",
       "      <td>22:00</td>\n",
       "      <td>PARK</td>\n",
       "      <td>-122.446484</td>\n",
       "      <td>37.750130</td>\n",
       "      <td>15009847006244</td>\n",
       "      <td>2015</td>\n",
       "    </tr>\n",
       "    <tr>\n",
       "      <th>4</th>\n",
       "      <td>46</td>\n",
       "      <td>LARCENY/THEFT</td>\n",
       "      <td>PETTY THEFT FROM LOCKED AUTO</td>\n",
       "      <td>Sunday</td>\n",
       "      <td>2015-02-01</td>\n",
       "      <td>16:44</td>\n",
       "      <td>SOUTHERN</td>\n",
       "      <td>-122.392304</td>\n",
       "      <td>37.782597</td>\n",
       "      <td>15009855506242</td>\n",
       "      <td>2015</td>\n",
       "    </tr>\n",
       "  </tbody>\n",
       "</table>\n",
       "</div>"
      ],
      "text/plain": [
       "   Unnamed: 0       Category                      Descript DayOfWeek  \\\n",
       "0           9  LARCENY/THEFT       PETTY THEFT SHOPLIFTING  Saturday   \n",
       "1          10  LARCENY/THEFT       PETTY THEFT SHOPLIFTING    Sunday   \n",
       "2          18  LARCENY/THEFT  PETTY THEFT FROM LOCKED AUTO    Sunday   \n",
       "3          35  LARCENY/THEFT  GRAND THEFT FROM LOCKED AUTO    Friday   \n",
       "4          46  LARCENY/THEFT  PETTY THEFT FROM LOCKED AUTO    Sunday   \n",
       "\n",
       "         Date   Time PdDistrict           X          Y            PdId  Year  \n",
       "0  2015-01-31  17:00    CENTRAL -122.417295  37.786258  15009826006362  2015  \n",
       "1  2015-02-01  14:00    MISSION -122.413354  37.769075  15009834506362  2015  \n",
       "2  2015-02-01  14:30       PARK -122.458639  37.767200  15009839506243  2015  \n",
       "3  2015-01-30  22:00       PARK -122.446484  37.750130  15009847006244  2015  \n",
       "4  2015-02-01  16:44   SOUTHERN -122.392304  37.782597  15009855506242  2015  "
      ]
     },
     "execution_count": 3,
     "metadata": {},
     "output_type": "execute_result"
    }
   ],
   "source": [
    "df=pd.read_csv('df_ld.csv', low_memory=False)  # read geocoded location from file\n",
    "df.head()"
   ]
  },
  {
   "cell_type": "code",
   "execution_count": 11,
   "metadata": {},
   "outputs": [
    {
     "data": {
      "text/html": [
       "<div>\n",
       "<style scoped>\n",
       "    .dataframe tbody tr th:only-of-type {\n",
       "        vertical-align: middle;\n",
       "    }\n",
       "\n",
       "    .dataframe tbody tr th {\n",
       "        vertical-align: top;\n",
       "    }\n",
       "\n",
       "    .dataframe thead th {\n",
       "        text-align: right;\n",
       "    }\n",
       "</style>\n",
       "<table border=\"1\" class=\"dataframe\">\n",
       "  <thead>\n",
       "    <tr style=\"text-align: right;\">\n",
       "      <th></th>\n",
       "      <th>X</th>\n",
       "      <th>Y</th>\n",
       "    </tr>\n",
       "  </thead>\n",
       "  <tbody>\n",
       "    <tr>\n",
       "      <th>58912</th>\n",
       "      <td>-122.501139</td>\n",
       "      <td>37.738189</td>\n",
       "    </tr>\n",
       "    <tr>\n",
       "      <th>395984</th>\n",
       "      <td>-122.407634</td>\n",
       "      <td>37.784189</td>\n",
       "    </tr>\n",
       "    <tr>\n",
       "      <th>461633</th>\n",
       "      <td>-122.472479</td>\n",
       "      <td>37.743189</td>\n",
       "    </tr>\n",
       "    <tr>\n",
       "      <th>291747</th>\n",
       "      <td>-122.412527</td>\n",
       "      <td>37.808625</td>\n",
       "    </tr>\n",
       "    <tr>\n",
       "      <th>425822</th>\n",
       "      <td>-122.413189</td>\n",
       "      <td>37.771274</td>\n",
       "    </tr>\n",
       "  </tbody>\n",
       "</table>\n",
       "</div>"
      ],
      "text/plain": [
       "                 X          Y\n",
       "58912  -122.501139  37.738189\n",
       "395984 -122.407634  37.784189\n",
       "461633 -122.472479  37.743189\n",
       "291747 -122.412527  37.808625\n",
       "425822 -122.413189  37.771274"
      ]
     },
     "execution_count": 11,
     "metadata": {},
     "output_type": "execute_result"
    }
   ],
   "source": [
    "df = df[['X', 'Y']]\n",
    "sample = df.sample(20000)\n",
    "sample.head()     "
   ]
  },
  {
   "cell_type": "code",
   "execution_count": 12,
   "metadata": {},
   "outputs": [
    {
     "data": {
      "text/html": [
       "<div>\n",
       "<style scoped>\n",
       "    .dataframe tbody tr th:only-of-type {\n",
       "        vertical-align: middle;\n",
       "    }\n",
       "\n",
       "    .dataframe tbody tr th {\n",
       "        vertical-align: top;\n",
       "    }\n",
       "\n",
       "    .dataframe thead th {\n",
       "        text-align: right;\n",
       "    }\n",
       "</style>\n",
       "<table border=\"1\" class=\"dataframe\">\n",
       "  <thead>\n",
       "    <tr style=\"text-align: right;\">\n",
       "      <th></th>\n",
       "      <th>X</th>\n",
       "      <th>Y</th>\n",
       "      <th>weight</th>\n",
       "    </tr>\n",
       "  </thead>\n",
       "  <tbody>\n",
       "    <tr>\n",
       "      <th>58912</th>\n",
       "      <td>-122.501139</td>\n",
       "      <td>37.738189</td>\n",
       "      <td>1</td>\n",
       "    </tr>\n",
       "    <tr>\n",
       "      <th>395984</th>\n",
       "      <td>-122.407634</td>\n",
       "      <td>37.784189</td>\n",
       "      <td>1</td>\n",
       "    </tr>\n",
       "    <tr>\n",
       "      <th>461633</th>\n",
       "      <td>-122.472479</td>\n",
       "      <td>37.743189</td>\n",
       "      <td>1</td>\n",
       "    </tr>\n",
       "    <tr>\n",
       "      <th>291747</th>\n",
       "      <td>-122.412527</td>\n",
       "      <td>37.808625</td>\n",
       "      <td>1</td>\n",
       "    </tr>\n",
       "    <tr>\n",
       "      <th>425822</th>\n",
       "      <td>-122.413189</td>\n",
       "      <td>37.771274</td>\n",
       "      <td>1</td>\n",
       "    </tr>\n",
       "  </tbody>\n",
       "</table>\n",
       "</div>"
      ],
      "text/plain": [
       "                 X          Y  weight\n",
       "58912  -122.501139  37.738189       1\n",
       "395984 -122.407634  37.784189       1\n",
       "461633 -122.472479  37.743189       1\n",
       "291747 -122.412527  37.808625       1\n",
       "425822 -122.413189  37.771274       1"
      ]
     },
     "execution_count": 12,
     "metadata": {},
     "output_type": "execute_result"
    }
   ],
   "source": [
    "sample['weight'] = 1\n",
    "sample.head()"
   ]
  },
  {
   "cell_type": "code",
   "execution_count": 13,
   "metadata": {},
   "outputs": [
    {
     "data": {
      "text/html": [
       "<div>\n",
       "<style scoped>\n",
       "    .dataframe tbody tr th:only-of-type {\n",
       "        vertical-align: middle;\n",
       "    }\n",
       "\n",
       "    .dataframe tbody tr th {\n",
       "        vertical-align: top;\n",
       "    }\n",
       "\n",
       "    .dataframe thead th {\n",
       "        text-align: right;\n",
       "    }\n",
       "</style>\n",
       "<table border=\"1\" class=\"dataframe\">\n",
       "  <thead>\n",
       "    <tr style=\"text-align: right;\">\n",
       "      <th></th>\n",
       "      <th>Y</th>\n",
       "      <th>X</th>\n",
       "    </tr>\n",
       "  </thead>\n",
       "  <tbody>\n",
       "    <tr>\n",
       "      <th>58912</th>\n",
       "      <td>37.738189</td>\n",
       "      <td>-122.501139</td>\n",
       "    </tr>\n",
       "    <tr>\n",
       "      <th>395984</th>\n",
       "      <td>37.784189</td>\n",
       "      <td>-122.407634</td>\n",
       "    </tr>\n",
       "    <tr>\n",
       "      <th>461633</th>\n",
       "      <td>37.743189</td>\n",
       "      <td>-122.472479</td>\n",
       "    </tr>\n",
       "    <tr>\n",
       "      <th>291747</th>\n",
       "      <td>37.808625</td>\n",
       "      <td>-122.412527</td>\n",
       "    </tr>\n",
       "    <tr>\n",
       "      <th>425822</th>\n",
       "      <td>37.771274</td>\n",
       "      <td>-122.413189</td>\n",
       "    </tr>\n",
       "  </tbody>\n",
       "</table>\n",
       "</div>"
      ],
      "text/plain": [
       "                Y           X\n",
       "58912   37.738189 -122.501139\n",
       "395984  37.784189 -122.407634\n",
       "461633  37.743189 -122.472479\n",
       "291747  37.808625 -122.412527\n",
       "425822  37.771274 -122.413189"
      ]
     },
     "execution_count": 13,
     "metadata": {},
     "output_type": "execute_result"
    }
   ],
   "source": [
    "locations = sample[['Y', 'X']]          # put latitide and longitude as a variable name 'locations'\n",
    "val = sample['weight']                                 # put the weight into variable name 'val'\n",
    "locations.head()                                          # display the first 5 rows of the location data"
   ]
  },
  {
   "cell_type": "code",
   "execution_count": 14,
   "metadata": {},
   "outputs": [],
   "source": [
    "def drawHeatMap(location, val, zoom, intensity, radius):\n",
    "    # setting the data and parameters\n",
    "    heatmap_layer = gmaps.heatmap_layer(locations, val, dissipating = True)\n",
    "    heatmap_layer.max_intensity = intensity\n",
    "    heatmap_layer.point_radius = radius\n",
    "    # draw the heatmap into a figure\n",
    "    fig = gmaps.figure()\n",
    "    fig = gmaps.figure(center = [37.75,-122.4], zoom_level=zoom)\n",
    "    fig.add_layer(heatmap_layer)\n",
    "    return fig"
   ]
  },
  {
   "cell_type": "code",
   "execution_count": 18,
   "metadata": {
    "scrolled": true
   },
   "outputs": [
    {
     "data": {
      "application/vnd.jupyter.widget-view+json": {
       "model_id": "de641cb4b944461eacd3193c1cb8419a",
       "version_major": 2,
       "version_minor": 0
      },
      "text/plain": [
       "Figure(layout=FigureLayout(height='420px'))"
      ]
     },
     "metadata": {},
     "output_type": "display_data"
    }
   ],
   "source": [
    "# set up parameters\n",
    "zoom=12\n",
    "intensity=25\n",
    "radius=3.5\n",
    "\n",
    "# call the function to draw the heatmap\n",
    "drawHeatMap(locations, val, zoom, intensity, radius)"
   ]
  },
  {
   "cell_type": "code",
   "execution_count": null,
   "metadata": {},
   "outputs": [],
   "source": []
  },
  {
   "cell_type": "code",
   "execution_count": null,
   "metadata": {},
   "outputs": [],
   "source": []
  }
 ],
 "metadata": {
  "kernelspec": {
   "display_name": "Python 3",
   "language": "python",
   "name": "python3"
  },
  "language_info": {
   "codemirror_mode": {
    "name": "ipython",
    "version": 3
   },
   "file_extension": ".py",
   "mimetype": "text/x-python",
   "name": "python",
   "nbconvert_exporter": "python",
   "pygments_lexer": "ipython3",
   "version": "3.7.1"
  }
 },
 "nbformat": 4,
 "nbformat_minor": 2
}
